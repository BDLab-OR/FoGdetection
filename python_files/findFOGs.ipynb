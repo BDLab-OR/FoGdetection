{
 "cells": [
  {
   "cell_type": "code",
   "execution_count": 62,
   "metadata": {},
   "outputs": [],
   "source": [
    "import numpy as np\n",
    "import pandas as pd\n",
    "import scipy as sp\n",
    "import resampy as rs \n",
    "import matplotlib.pyplot as plt\n",
    "import statsmodels.api as sm\n",
    "import statsmodels.tsa as tsa \n",
    "import statsmodels.formula.api as smf\n",
    "import os\n",
    "import glob\n",
    "import random\n",
    "import string"
   ]
  },
  {
   "cell_type": "code",
   "execution_count": 9,
   "metadata": {},
   "outputs": [],
   "source": [
    "study_directory = '/Users/alexastefanko/lab/FoGdetection/Subjects'\n",
    "output_directory = '/Users/alexastefanko/lab/FoGdetection/Output/'\n",
    "sample_rate = 128\n",
    "\n",
    "r_acc_ap_col = \"R_acc\"; #Column name for right accelerometer anterior-posterior\n",
    "l_acc_ap_col = \"L_acc\"; #Column name for left accelerometer anterior-posterior\n",
    "r_gyr_ml_col = \"R_gyr\"; #Column name for right gyroscope mediolateral\n",
    "l_gyr_ml_col = \"L_gyr\"; #Column name for left gyroscop mediolateral"
   ]
  },
  {
   "cell_type": "code",
   "execution_count": 23,
   "metadata": {},
   "outputs": [],
   "source": [
    "class Fog:\n",
    "    def __init__(self, filename):\n",
    "        self.filename = filename\n",
    "        self.very_short_fog = None\n",
    "        self.short_fog = None\n",
    "        self.long_fog = None\n",
    "        self.very_long_fog = None\n",
    "        self.NN = None\n",
    "        self.MM = None"
   ]
  },
  {
   "cell_type": "code",
   "execution_count": 89,
   "metadata": {},
   "outputs": [],
   "source": [
    "def get_csv_files(directory):\n",
    "    for dir_name, subdir_list, file_list in os.walk(directory):\n",
    "        return [os.path.join(dir_name, name) for name in file_list if name.endswith(\".csv\")]\n",
    "    \n",
    "def correlation_based_method(data, filtered_data):\n",
    "    r_ml = data[0]\n",
    "    mean_r = np.mean(r_ml)\n",
    "    r_for_cov = [x - mean_r for x in r_ml]\n",
    "    \n",
    "    l_ml = data[1]\n",
    "    mean_l = np.mean(l_ml)\n",
    "    l_for_cov = [x - mean_l for x in l_ml]\n",
    "\n",
    "    num_points = len(r_ml)\n",
    "    array = np.array([r_ml, l_ml])\n",
    "        \n",
    "    #R and L angular velocities cross-correlation to find a delay between two\n",
    "    cross_cov = np.correlate(r_for_cov, l_for_cov, \"full\")\n",
    "    shifter = 0\n",
    "    for idx, num in enumerate(cross_cov):\n",
    "        if num == np.max(cross_cov):\n",
    "            shifter = idx\n",
    "    \n",
    "    starter = round(abs(shifter - (num_points/2)))\n",
    "#     print(starter)\n",
    "    \n",
    "    #Sync R and L after correction for delay\n",
    "    t_sensor_1 = filtered_data[0][starter:]\n",
    "#     print(t_sensor_1)\n",
    "    t_sensor_2 = filtered_data[1][:len(filtered_data) - starter]\n",
    "    "
   ]
  },
  {
   "cell_type": "code",
   "execution_count": 60,
   "metadata": {},
   "outputs": [],
   "source": [
    "subject_files = get_csv_files(study_directory)\n",
    "dataframes = [pd.read_csv(file) for file in subject_files]"
   ]
  },
  {
   "cell_type": "code",
   "execution_count": 90,
   "metadata": {},
   "outputs": [
    {
     "name": "stdout",
     "output_type": "stream",
     "text": [
      "17650\n",
      "[0.42076951 0.33642017 0.22969082 ... 0.27793128 0.2427529  0.21333588]\n",
      "17650\n",
      "[0.42076951 0.33642017 0.22969082 ... 0.27793128 0.2427529  0.21333588]\n"
     ]
    }
   ],
   "source": [
    "new_sample_rate = 200\n",
    "\n",
    "x = 0\n",
    "fogs = []\n",
    "for df in dataframes:\n",
    "    r_acc_ap = df[r_acc_ap_col].values\n",
    "    l_acc_ap = df[l_acc_ap_col].values\n",
    "    r_gyr_ml = df[r_gyr_ml_col].values\n",
    "    l_gyr_ml = df[l_gyr_ml_col].values\n",
    "    \n",
    "    #Resample the data to 200 \n",
    "    r_ml = rs.resample(r_gyr_ml, sample_rate, new_sample_rate)\n",
    "    l_ml = rs.resample(l_gyr_ml, sample_rate, new_sample_rate)\n",
    "    \n",
    "    #apply low-pass butterworth filter\n",
    "    a,b = sp.signal.butter(4,5/(200/2))\n",
    "    sensor_data_filtered=sp.signal.filtfilt(a,b,[r_ml, l_ml]);\n",
    "\n",
    "    correlation_based_method([r_ml, l_ml], sensor_data_filtered)\n",
    "    \n",
    "    fog = Fog(subject_files[x])\n",
    "    fogs.append(fog)\n",
    "    x = x + 1"
   ]
  },
  {
   "cell_type": "code",
   "execution_count": null,
   "metadata": {},
   "outputs": [],
   "source": []
  }
 ],
 "metadata": {
  "kernelspec": {
   "display_name": "Python 3",
   "language": "python",
   "name": "python3"
  },
  "language_info": {
   "codemirror_mode": {
    "name": "ipython",
    "version": 3
   },
   "file_extension": ".py",
   "mimetype": "text/x-python",
   "name": "python",
   "nbconvert_exporter": "python",
   "pygments_lexer": "ipython3",
   "version": "3.7.6"
  }
 },
 "nbformat": 4,
 "nbformat_minor": 4
}
